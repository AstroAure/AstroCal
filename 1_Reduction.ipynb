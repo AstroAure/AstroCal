{
 "cells": [
  {
   "cell_type": "code",
   "execution_count": null,
   "metadata": {},
   "outputs": [],
   "source": [
    "import glob\n",
    "import numpy as np\n",
    "import matplotlib.pyplot as plt\n",
    "from astropy.visualization import ImageNormalize, MinMaxInterval, ZScaleInterval, LogStretch\n",
    "import numpy.ma as ma\n",
    "from astropy.io import fits\n",
    "\n",
    "import src.astrocal.master as ac\n",
    "import src.astrocal.reduction as re\n",
    "import src.astrocal.astrometry as am\n",
    "import src.astrocal.photometry as pt\n",
    "\n",
    "import warnings\n",
    "from astropy.utils.exceptions import AstropyWarning\n",
    "warnings.simplefilter('ignore', category=AstropyWarning)"
   ]
  },
  {
   "cell_type": "code",
   "execution_count": null,
   "metadata": {},
   "outputs": [],
   "source": [
    "main = \"C:/Users/aurel/Desktop/DUAO Projet/(6) Hebe\""
   ]
  },
  {
   "cell_type": "markdown",
   "metadata": {},
   "source": [
    "## Master frames"
   ]
  },
  {
   "cell_type": "code",
   "execution_count": null,
   "metadata": {},
   "outputs": [],
   "source": [
    "savedir_dark = f\"{main}/DARK/MASTER\"\n",
    "savedir_flat = f\"{main}/FLAT/MASTER\"\n",
    "savedir_mask = f\"{main}/MASK\""
   ]
  },
  {
   "cell_type": "code",
   "execution_count": null,
   "metadata": {},
   "outputs": [],
   "source": [
    "dark_filename = f\"{main}/DARK/DARK*\"\n",
    "master_dark, mask_hot = ac.make_master_dark(dark_filename, gen_hot_px=True, threshold=3, clean_bad_px=False, verbose=True)"
   ]
  },
  {
   "cell_type": "code",
   "execution_count": null,
   "metadata": {},
   "outputs": [],
   "source": [
    "fig, axs = plt.subplots(1,2,figsize=(12,12))\n",
    "norm = ImageNormalize(master_dark.data, interval=ZScaleInterval())\n",
    "axs[0].imshow(master_dark.data, cmap='gray', origin='lower', norm=norm)\n",
    "axs[1].imshow(mask_hot, cmap='gray_r', origin='lower', vmin=0, vmax=1)\n",
    "plt.show()"
   ]
  },
  {
   "cell_type": "code",
   "execution_count": null,
   "metadata": {},
   "outputs": [],
   "source": [
    "dark_sample = glob.glob(dark_filename)[0].replace('\\\\','/')\n",
    "ac.save_master(savedir_dark, master_dark, dark_sample, out_name=None)\n",
    "ac.save_mask(savedir_mask, mask_hot, dark_sample, out_name=None)"
   ]
  },
  {
   "cell_type": "code",
   "execution_count": null,
   "metadata": {},
   "outputs": [],
   "source": [
    "flat_filename = f\"{main}/FLAT/SDSSgp+/FLAT*\"\n",
    "master_flat, mask_dead = ac.make_master_flat(flat_filename, threshold=0.5, gen_dead_px=True, clean_bad_px=False, mask=mask_hot, verbose=True)"
   ]
  },
  {
   "cell_type": "code",
   "execution_count": null,
   "metadata": {},
   "outputs": [],
   "source": [
    "fig, axs = plt.subplots(1,2,figsize=(12,12))\n",
    "norm = ImageNormalize(master_flat.data, interval=ZScaleInterval())\n",
    "axs[0].imshow(master_flat.data, cmap='gray', origin='lower', norm=norm)\n",
    "axs[1].imshow(mask_dead, cmap='gray_r', origin='lower', vmin=0, vmax=1)\n",
    "plt.show()"
   ]
  },
  {
   "cell_type": "code",
   "execution_count": null,
   "metadata": {},
   "outputs": [],
   "source": [
    "flat_sample = glob.glob(flat_filename)[0].replace('\\\\','/')\n",
    "ac.save_master(savedir_flat, master_flat, flat_sample, out_name=None)\n",
    "ac.save_mask(savedir_mask, mask_dead, flat_sample, out_name=None)"
   ]
  },
  {
   "cell_type": "markdown",
   "metadata": {},
   "source": [
    "## Image reduction"
   ]
  },
  {
   "cell_type": "code",
   "execution_count": null,
   "metadata": {},
   "outputs": [],
   "source": [
    "date = \"20240605\"\n",
    "filter = \"SDSSip+\"\n",
    "\n",
    "light_filename = f\"{main}/LIGHT/{date}/{filter}/*.fits\"\n",
    "savedir = \"/\".join(light_filename.split(\"/\")[:-1]) + \"/REDUCED\"\n",
    "master_dark = glob.glob(f\"{main}/DARK/MASTER/*\")[0]\n",
    "master_flat = glob.glob(f\"{main}/FLAT/MASTER/*{filter}*\")[0]\n",
    "mask_dark = glob.glob(f\"{main}/MASK/*DARK*\")[0]\n",
    "mask_flat = glob.glob(f\"{main}/MASK/*FLAT*{filter}*\")[0]"
   ]
  },
  {
   "cell_type": "code",
   "execution_count": null,
   "metadata": {},
   "outputs": [],
   "source": [
    "raw = fits.open(glob.glob(light_filename)[0])[0]\n",
    "reduced = re.reduce_one(glob.glob(light_filename)[0], fits.open(master_dark)[0].data, fits.open(master_flat)[0].data, \n",
    "                        mask=np.logical_or(fits.open(mask_dark)[0].data.astype(bool), fits.open(mask_flat)[0].data.astype(bool)),\n",
    "                        verbose=True)\n",
    "\n",
    "fig, axs = plt.subplots(1,2,figsize=(12,12))\n",
    "norm = ImageNormalize(raw.data, interval=ZScaleInterval())\n",
    "axs[0].imshow(raw.data, cmap='gray', origin='lower', norm=norm)\n",
    "norm = ImageNormalize(reduced.data, interval=ZScaleInterval())\n",
    "axs[1].imshow(reduced.data, cmap='gray', origin='lower', norm=norm)\n",
    "plt.show()"
   ]
  },
  {
   "cell_type": "code",
   "execution_count": null,
   "metadata": {},
   "outputs": [],
   "source": [
    "re.reduce(light_filename, savedir, master_dark, master_flat, mask_name=[mask_dark, mask_flat], verbose=True)"
   ]
  },
  {
   "cell_type": "markdown",
   "metadata": {},
   "source": [
    "## Astrometric calibration (plate-solving)"
   ]
  },
  {
   "cell_type": "code",
   "execution_count": null,
   "metadata": {},
   "outputs": [],
   "source": [
    "date = \"20240531\"\n",
    "filter = \"SDSSgp+\"\n",
    "\n",
    "generic_filename = f\"{main}/LIGHT/{date}/{filter}/REDUCED/*.fits\"\n",
    "savedir = f\"{main}/LIGHT/{date}/{filter}/REDUCED\"\n",
    "mask_dark = glob.glob(f\"{main}/MASK/*DARK*\")[0]\n",
    "mask_flat = glob.glob(f\"{main}/MASK/*FLAT*{filter}*\")[0]\n",
    "am.astrometry_all(generic_filename, savedir, overwrite=True, mask_name=[mask_dark, mask_flat], first=0, verbose=True)"
   ]
  },
  {
   "cell_type": "code",
   "execution_count": null,
   "metadata": {},
   "outputs": [],
   "source": [
    "date = \"20240531\"\n",
    "filter = \"SDSSrp+\"\n",
    "\n",
    "generic_filename = f\"{main}/LIGHT/{date}/{filter}/REDUCED/*.fits\"\n",
    "savedir = f\"{main}/LIGHT/{date}/{filter}/REDUCED\"\n",
    "mask_dark = glob.glob(f\"{main}/MASK/*DARK*\")[0]\n",
    "mask_flat = glob.glob(f\"{main}/MASK/*FLAT*{filter}*\")[0]\n",
    "am.astrometry_all(generic_filename, savedir, overwrite=True, mask_name=[mask_dark, mask_flat], first=0, fwhm=8, threshold=5, verbose=True)"
   ]
  },
  {
   "cell_type": "code",
   "execution_count": null,
   "metadata": {},
   "outputs": [],
   "source": [
    "date = \"20240531\"\n",
    "filter = \"SDSSip+\"\n",
    "\n",
    "generic_filename = f\"{main}/LIGHT/{date}/{filter}/REDUCED/*.fits\"\n",
    "savedir = f\"{main}/LIGHT/{date}/{filter}/REDUCED\"\n",
    "mask_dark = glob.glob(f\"{main}/MASK/*DARK*\")[0]\n",
    "mask_flat = glob.glob(f\"{main}/MASK/*FLAT*{filter}*\")[0]\n",
    "am.astrometry_all(generic_filename, savedir, overwrite=True, mask_name=[mask_dark, mask_flat], fwhm=8, threshold=5, first=0, verbose=True)"
   ]
  },
  {
   "cell_type": "markdown",
   "metadata": {},
   "source": [
    "## Photometric calibration"
   ]
  },
  {
   "cell_type": "code",
   "execution_count": null,
   "metadata": {},
   "outputs": [],
   "source": [
    "date = \"20240531\"\n",
    "filter = \"SDSSgp+\"\n",
    "\n",
    "mask_dark = glob.glob(f\"{main}/MASK/*DARK*\")[0]\n",
    "mask_flat = glob.glob(f\"{main}/MASK/*FLAT*{filter}*\")[0]\n",
    "mask_name=[mask_dark, mask_flat]\n",
    "\n",
    "generic_filename = f\"{main}/LIGHT/{date}/{filter}/REDUCED/*.fits\"\n",
    "\n",
    "savedir = f\"{main}/LIGHT/{date}/{filter}/PHOTOMETRY\"\n",
    "\n",
    "pt.photometry_all(generic_filename, savedir, mask_name,\n",
    "                  calib_mag_col=f\"{filter[-3]}mag\", calib_emag_col=f\"e_{filter[-3]}mag\", \n",
    "                  plot=False, verbose=True)"
   ]
  },
  {
   "cell_type": "code",
   "execution_count": null,
   "metadata": {},
   "outputs": [],
   "source": [
    "date = \"20240531\"\n",
    "filter = \"SDSSrp+\"\n",
    "\n",
    "mask_dark = glob.glob(f\"{main}/MASK/*DARK*\")[0]\n",
    "mask_flat = glob.glob(f\"{main}/MASK/*FLAT*{filter}*\")[0]\n",
    "mask_name=[mask_dark, mask_flat]\n",
    "\n",
    "generic_filename = f\"{main}/LIGHT/{date}/{filter}/REDUCED/*.fits\"\n",
    "\n",
    "savedir = f\"{main}/LIGHT/{date}/{filter}/PHOTOMETRY\"\n",
    "\n",
    "pt.photometry_all(generic_filename, savedir, mask_name, first=0,\n",
    "                  detect_fwhm=8, detect_threshold=5,\n",
    "                  calib_mag_col=f\"{filter[-3]}mag\", calib_emag_col=f\"e_{filter[-3]}mag\", \n",
    "                  plot=False, verbose=True)"
   ]
  },
  {
   "cell_type": "code",
   "execution_count": null,
   "metadata": {},
   "outputs": [],
   "source": [
    "date = \"20240531\"\n",
    "filter = \"SDSSip+\"\n",
    "\n",
    "mask_dark = glob.glob(f\"{main}/MASK/*DARK*\")[0]\n",
    "mask_flat = glob.glob(f\"{main}/MASK/*FLAT*{filter}*\")[0]\n",
    "mask_name=[mask_dark, mask_flat]\n",
    "\n",
    "generic_filename = f\"{main}/LIGHT/{date}/{filter}/REDUCED/*.fits\"\n",
    "\n",
    "savedir = f\"{main}/LIGHT/{date}/{filter}/PHOTOMETRY\"\n",
    "\n",
    "pt.photometry_all(generic_filename, savedir, mask_name,\n",
    "                  detect_fwhm=8, detect_threshold=5,\n",
    "                  calib_mag_col=f\"{filter[-3]}mag\", calib_emag_col=f\"e_{filter[-3]}mag\", \n",
    "                  plot=False, verbose=True)"
   ]
  },
  {
   "cell_type": "code",
   "execution_count": null,
   "metadata": {},
   "outputs": [],
   "source": []
  }
 ],
 "metadata": {
  "kernelspec": {
   "display_name": "base",
   "language": "python",
   "name": "python3"
  },
  "language_info": {
   "codemirror_mode": {
    "name": "ipython",
    "version": 3
   },
   "file_extension": ".py",
   "mimetype": "text/x-python",
   "name": "python",
   "nbconvert_exporter": "python",
   "pygments_lexer": "ipython3",
   "version": "3.11.5"
  }
 },
 "nbformat": 4,
 "nbformat_minor": 2
}
